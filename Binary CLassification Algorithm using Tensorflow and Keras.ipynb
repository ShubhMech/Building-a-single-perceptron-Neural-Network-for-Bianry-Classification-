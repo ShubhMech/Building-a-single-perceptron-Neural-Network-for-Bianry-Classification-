{
 "cells": [
  {
   "cell_type": "code",
   "execution_count": 25,
   "id": "fc96c987-080f-45a0-ae3b-93619c4dc20d",
   "metadata": {},
   "outputs": [],
   "source": [
    "import tensorflow.keras\n"
   ]
  },
  {
   "cell_type": "code",
   "execution_count": 27,
   "id": "292ecea0-1c92-421e-8d93-fa38dd6f19c4",
   "metadata": {},
   "outputs": [],
   "source": [
    "from keras.layers import Dense as dense"
   ]
  },
  {
   "cell_type": "code",
   "execution_count": 29,
   "id": "20010d03-e9bf-49d8-93f4-beb6350f1617",
   "metadata": {},
   "outputs": [],
   "source": [
    "from keras.models import Sequential as seq"
   ]
  },
  {
   "cell_type": "code",
   "execution_count": 7,
   "id": "efe97161-fc22-4678-aeb6-d9a438a6a746",
   "metadata": {},
   "outputs": [],
   "source": [
    "path=r\"D:\\Asus\\Documents\\SelfDrivingMaterials\\Section9\\speed_decision_data.csv\""
   ]
  },
  {
   "cell_type": "code",
   "execution_count": 8,
   "id": "ceb34639-6b71-41a2-b671-7752ebc8199f",
   "metadata": {},
   "outputs": [],
   "source": [
    "import pandas as pd, numpy as np"
   ]
  },
  {
   "cell_type": "code",
   "execution_count": 9,
   "id": "a2003be9-aab6-43a5-95a3-285d9df5cf9f",
   "metadata": {},
   "outputs": [],
   "source": [
    "df1= pd.read_csv(path)"
   ]
  },
  {
   "cell_type": "code",
   "execution_count": 11,
   "id": "a0e4ad29-c6b9-48e9-92d9-3d5e67b086b8",
   "metadata": {},
   "outputs": [
    {
     "data": {
      "text/html": [
       "<div>\n",
       "<style scoped>\n",
       "    .dataframe tbody tr th:only-of-type {\n",
       "        vertical-align: middle;\n",
       "    }\n",
       "\n",
       "    .dataframe tbody tr th {\n",
       "        vertical-align: top;\n",
       "    }\n",
       "\n",
       "    .dataframe thead th {\n",
       "        text-align: right;\n",
       "    }\n",
       "</style>\n",
       "<table border=\"1\" class=\"dataframe\">\n",
       "  <thead>\n",
       "    <tr style=\"text-align: right;\">\n",
       "      <th></th>\n",
       "      <th>1 - Distance From Bump</th>\n",
       "      <th>Height of Bump</th>\n",
       "      <th>Speed</th>\n",
       "    </tr>\n",
       "  </thead>\n",
       "  <tbody>\n",
       "    <tr>\n",
       "      <th>0</th>\n",
       "      <td>0.575374</td>\n",
       "      <td>0.680337</td>\n",
       "      <td>0</td>\n",
       "    </tr>\n",
       "    <tr>\n",
       "      <th>1</th>\n",
       "      <td>0.376002</td>\n",
       "      <td>0.278661</td>\n",
       "      <td>1</td>\n",
       "    </tr>\n",
       "    <tr>\n",
       "      <th>2</th>\n",
       "      <td>0.973890</td>\n",
       "      <td>0.741585</td>\n",
       "      <td>0</td>\n",
       "    </tr>\n",
       "    <tr>\n",
       "      <th>3</th>\n",
       "      <td>0.310378</td>\n",
       "      <td>0.342374</td>\n",
       "      <td>1</td>\n",
       "    </tr>\n",
       "    <tr>\n",
       "      <th>4</th>\n",
       "      <td>0.109521</td>\n",
       "      <td>0.268304</td>\n",
       "      <td>1</td>\n",
       "    </tr>\n",
       "  </tbody>\n",
       "</table>\n",
       "</div>"
      ],
      "text/plain": [
       "   1 - Distance From Bump  Height of Bump  Speed\n",
       "0                0.575374        0.680337      0\n",
       "1                0.376002        0.278661      1\n",
       "2                0.973890        0.741585      0\n",
       "3                0.310378        0.342374      1\n",
       "4                0.109521        0.268304      1"
      ]
     },
     "execution_count": 11,
     "metadata": {},
     "output_type": "execute_result"
    }
   ],
   "source": [
    "df1.head()"
   ]
  },
  {
   "cell_type": "code",
   "execution_count": 15,
   "id": "c3543576-add8-4a81-a121-81fd601c68e5",
   "metadata": {},
   "outputs": [],
   "source": [
    "x=df1.iloc[:,:-1]"
   ]
  },
  {
   "cell_type": "code",
   "execution_count": 17,
   "id": "e28d2c34-4b1f-4e31-a7b4-ff25dcd2485f",
   "metadata": {},
   "outputs": [
    {
     "data": {
      "text/html": [
       "<div>\n",
       "<style scoped>\n",
       "    .dataframe tbody tr th:only-of-type {\n",
       "        vertical-align: middle;\n",
       "    }\n",
       "\n",
       "    .dataframe tbody tr th {\n",
       "        vertical-align: top;\n",
       "    }\n",
       "\n",
       "    .dataframe thead th {\n",
       "        text-align: right;\n",
       "    }\n",
       "</style>\n",
       "<table border=\"1\" class=\"dataframe\">\n",
       "  <thead>\n",
       "    <tr style=\"text-align: right;\">\n",
       "      <th></th>\n",
       "      <th>1 - Distance From Bump</th>\n",
       "      <th>Height of Bump</th>\n",
       "    </tr>\n",
       "  </thead>\n",
       "  <tbody>\n",
       "    <tr>\n",
       "      <th>0</th>\n",
       "      <td>0.575374</td>\n",
       "      <td>0.680337</td>\n",
       "    </tr>\n",
       "    <tr>\n",
       "      <th>1</th>\n",
       "      <td>0.376002</td>\n",
       "      <td>0.278661</td>\n",
       "    </tr>\n",
       "    <tr>\n",
       "      <th>2</th>\n",
       "      <td>0.973890</td>\n",
       "      <td>0.741585</td>\n",
       "    </tr>\n",
       "    <tr>\n",
       "      <th>3</th>\n",
       "      <td>0.310378</td>\n",
       "      <td>0.342374</td>\n",
       "    </tr>\n",
       "    <tr>\n",
       "      <th>4</th>\n",
       "      <td>0.109521</td>\n",
       "      <td>0.268304</td>\n",
       "    </tr>\n",
       "  </tbody>\n",
       "</table>\n",
       "</div>"
      ],
      "text/plain": [
       "   1 - Distance From Bump  Height of Bump\n",
       "0                0.575374        0.680337\n",
       "1                0.376002        0.278661\n",
       "2                0.973890        0.741585\n",
       "3                0.310378        0.342374\n",
       "4                0.109521        0.268304"
      ]
     },
     "execution_count": 17,
     "metadata": {},
     "output_type": "execute_result"
    }
   ],
   "source": [
    "x.head()"
   ]
  },
  {
   "cell_type": "code",
   "execution_count": 18,
   "id": "03b3eb19-1461-4883-8e2c-5c3e4271b8e3",
   "metadata": {},
   "outputs": [],
   "source": [
    "y=df1.iloc[:,-1]"
   ]
  },
  {
   "cell_type": "code",
   "execution_count": 19,
   "id": "22ffecfa-4ee7-40c4-b213-f5af878bbf6d",
   "metadata": {},
   "outputs": [
    {
     "data": {
      "text/plain": [
       "0    0\n",
       "1    1\n",
       "2    0\n",
       "3    1\n",
       "4    1\n",
       "Name: Speed, dtype: int64"
      ]
     },
     "execution_count": 19,
     "metadata": {},
     "output_type": "execute_result"
    }
   ],
   "source": [
    "y.head()"
   ]
  },
  {
   "cell_type": "code",
   "execution_count": 30,
   "id": "d8ef105f-6a59-4152-bdeb-b7dd14555687",
   "metadata": {},
   "outputs": [],
   "source": [
    "model=seq()"
   ]
  },
  {
   "cell_type": "code",
   "execution_count": 31,
   "id": "4f091561-b5f4-4c20-b3fc-c94a837ee68a",
   "metadata": {},
   "outputs": [],
   "source": [
    "model.add(Dense(1,input_dim=2,activation='sigmoid'))"
   ]
  },
  {
   "cell_type": "code",
   "execution_count": 39,
   "id": "5d4fc455-82b0-47dc-b3d4-6965c808c8e1",
   "metadata": {},
   "outputs": [],
   "source": [
    "model.compile(optimizer='adam', loss='binary_crossentropy')"
   ]
  },
  {
   "cell_type": "code",
   "execution_count": 40,
   "id": "448fae1a-f3f4-4792-96b9-5600a08eda4e",
   "metadata": {},
   "outputs": [
    {
     "name": "stdout",
     "output_type": "stream",
     "text": [
      "<keras.engine.sequential.Sequential object at 0x000001A3267B8DC0>\n"
     ]
    }
   ],
   "source": [
    "print(model)"
   ]
  },
  {
   "cell_type": "code",
   "execution_count": 41,
   "id": "93f2589d-4fb7-4820-b7a4-b52664f89c88",
   "metadata": {},
   "outputs": [
    {
     "name": "stdout",
     "output_type": "stream",
     "text": [
      "Model: \"sequential_1\"\n",
      "_________________________________________________________________\n",
      " Layer (type)                Output Shape              Param #   \n",
      "=================================================================\n",
      " dense (Dense)               (None, 1)                 3         \n",
      "                                                                 \n",
      "=================================================================\n",
      "Total params: 3\n",
      "Trainable params: 3\n",
      "Non-trainable params: 0\n",
      "_________________________________________________________________\n"
     ]
    }
   ],
   "source": [
    "model.summary()"
   ]
  },
  {
   "cell_type": "code",
   "execution_count": 42,
   "id": "c96d691c-72c8-49a7-b35e-254b77ad3f47",
   "metadata": {},
   "outputs": [
    {
     "name": "stdout",
     "output_type": "stream",
     "text": [
      "Epoch 1/100\n",
      "32/32 [==============================] - 1s 2ms/step - loss: 0.7668\n",
      "Epoch 2/100\n",
      "32/32 [==============================] - 0s 2ms/step - loss: 0.7567\n",
      "Epoch 3/100\n",
      "32/32 [==============================] - 0s 2ms/step - loss: 0.7478\n",
      "Epoch 4/100\n",
      "32/32 [==============================] - 0s 2ms/step - loss: 0.7397\n",
      "Epoch 5/100\n",
      "32/32 [==============================] - 0s 2ms/step - loss: 0.7324\n",
      "Epoch 6/100\n",
      "32/32 [==============================] - 0s 2ms/step - loss: 0.7255\n",
      "Epoch 7/100\n",
      "32/32 [==============================] - 0s 2ms/step - loss: 0.7192\n",
      "Epoch 8/100\n",
      "32/32 [==============================] - 0s 2ms/step - loss: 0.7131\n",
      "Epoch 9/100\n",
      "32/32 [==============================] - 0s 2ms/step - loss: 0.7073\n",
      "Epoch 10/100\n",
      "32/32 [==============================] - 0s 2ms/step - loss: 0.7019\n",
      "Epoch 11/100\n",
      "32/32 [==============================] - 0s 2ms/step - loss: 0.6966\n",
      "Epoch 12/100\n",
      "32/32 [==============================] - 0s 2ms/step - loss: 0.6914\n",
      "Epoch 13/100\n",
      "32/32 [==============================] - 0s 2ms/step - loss: 0.6864\n",
      "Epoch 14/100\n",
      "32/32 [==============================] - 0s 2ms/step - loss: 0.6815\n",
      "Epoch 15/100\n",
      "32/32 [==============================] - 0s 2ms/step - loss: 0.6767\n",
      "Epoch 16/100\n",
      "32/32 [==============================] - 0s 2ms/step - loss: 0.6721\n",
      "Epoch 17/100\n",
      "32/32 [==============================] - 0s 2ms/step - loss: 0.6674\n",
      "Epoch 18/100\n",
      "32/32 [==============================] - 0s 2ms/step - loss: 0.6629\n",
      "Epoch 19/100\n",
      "32/32 [==============================] - 0s 2ms/step - loss: 0.6584\n",
      "Epoch 20/100\n",
      "32/32 [==============================] - 0s 2ms/step - loss: 0.6539\n",
      "Epoch 21/100\n",
      "32/32 [==============================] - 0s 2ms/step - loss: 0.6494\n",
      "Epoch 22/100\n",
      "32/32 [==============================] - 0s 2ms/step - loss: 0.6450\n",
      "Epoch 23/100\n",
      "32/32 [==============================] - 0s 2ms/step - loss: 0.6407\n",
      "Epoch 24/100\n",
      "32/32 [==============================] - 0s 2ms/step - loss: 0.6364\n",
      "Epoch 25/100\n",
      "32/32 [==============================] - 0s 2ms/step - loss: 0.6320\n",
      "Epoch 26/100\n",
      "32/32 [==============================] - 0s 2ms/step - loss: 0.6277\n",
      "Epoch 27/100\n",
      "32/32 [==============================] - 0s 2ms/step - loss: 0.6234\n",
      "Epoch 28/100\n",
      "32/32 [==============================] - 0s 2ms/step - loss: 0.6192\n",
      "Epoch 29/100\n",
      "32/32 [==============================] - 0s 2ms/step - loss: 0.6150\n",
      "Epoch 30/100\n",
      "32/32 [==============================] - 0s 2ms/step - loss: 0.6108\n",
      "Epoch 31/100\n",
      "32/32 [==============================] - 0s 2ms/step - loss: 0.6065\n",
      "Epoch 32/100\n",
      "32/32 [==============================] - 0s 2ms/step - loss: 0.6024\n",
      "Epoch 33/100\n",
      "32/32 [==============================] - 0s 2ms/step - loss: 0.5983\n",
      "Epoch 34/100\n",
      "32/32 [==============================] - 0s 2ms/step - loss: 0.5942\n",
      "Epoch 35/100\n",
      "32/32 [==============================] - 0s 2ms/step - loss: 0.5902\n",
      "Epoch 36/100\n",
      "32/32 [==============================] - 0s 2ms/step - loss: 0.5862\n",
      "Epoch 37/100\n",
      "32/32 [==============================] - 0s 3ms/step - loss: 0.5822\n",
      "Epoch 38/100\n",
      "32/32 [==============================] - 0s 2ms/step - loss: 0.5782\n",
      "Epoch 39/100\n",
      "32/32 [==============================] - 0s 2ms/step - loss: 0.5743\n",
      "Epoch 40/100\n",
      "32/32 [==============================] - 0s 2ms/step - loss: 0.5703\n",
      "Epoch 41/100\n",
      "32/32 [==============================] - 0s 2ms/step - loss: 0.5664\n",
      "Epoch 42/100\n",
      "32/32 [==============================] - 0s 2ms/step - loss: 0.5626\n",
      "Epoch 43/100\n",
      "32/32 [==============================] - 0s 2ms/step - loss: 0.5587\n",
      "Epoch 44/100\n",
      "32/32 [==============================] - 0s 2ms/step - loss: 0.5549\n",
      "Epoch 45/100\n",
      "32/32 [==============================] - 0s 2ms/step - loss: 0.5511\n",
      "Epoch 46/100\n",
      "32/32 [==============================] - 0s 2ms/step - loss: 0.5473\n",
      "Epoch 47/100\n",
      "32/32 [==============================] - 0s 2ms/step - loss: 0.5436\n",
      "Epoch 48/100\n",
      "32/32 [==============================] - 0s 2ms/step - loss: 0.5398\n",
      "Epoch 49/100\n",
      "32/32 [==============================] - 0s 2ms/step - loss: 0.5361\n",
      "Epoch 50/100\n",
      "32/32 [==============================] - 0s 2ms/step - loss: 0.5324\n",
      "Epoch 51/100\n",
      "32/32 [==============================] - 0s 2ms/step - loss: 0.5287\n",
      "Epoch 52/100\n",
      "32/32 [==============================] - 0s 2ms/step - loss: 0.5251\n",
      "Epoch 53/100\n",
      "32/32 [==============================] - 0s 2ms/step - loss: 0.5215\n",
      "Epoch 54/100\n",
      "32/32 [==============================] - 0s 2ms/step - loss: 0.5179\n",
      "Epoch 55/100\n",
      "32/32 [==============================] - 0s 2ms/step - loss: 0.5143\n",
      "Epoch 56/100\n",
      "32/32 [==============================] - 0s 2ms/step - loss: 0.5108\n",
      "Epoch 57/100\n",
      "32/32 [==============================] - 0s 2ms/step - loss: 0.5072\n",
      "Epoch 58/100\n",
      "32/32 [==============================] - 0s 2ms/step - loss: 0.5037\n",
      "Epoch 59/100\n",
      "32/32 [==============================] - 0s 2ms/step - loss: 0.5002\n",
      "Epoch 60/100\n",
      "32/32 [==============================] - 0s 2ms/step - loss: 0.4967\n",
      "Epoch 61/100\n",
      "32/32 [==============================] - 0s 2ms/step - loss: 0.4933\n",
      "Epoch 62/100\n",
      "32/32 [==============================] - 0s 2ms/step - loss: 0.4899\n",
      "Epoch 63/100\n",
      "32/32 [==============================] - 0s 2ms/step - loss: 0.4865\n",
      "Epoch 64/100\n",
      "32/32 [==============================] - 0s 2ms/step - loss: 0.4831\n",
      "Epoch 65/100\n",
      "32/32 [==============================] - 0s 2ms/step - loss: 0.4798\n",
      "Epoch 66/100\n",
      "32/32 [==============================] - 0s 2ms/step - loss: 0.4764\n",
      "Epoch 67/100\n",
      "32/32 [==============================] - 0s 2ms/step - loss: 0.4731\n",
      "Epoch 68/100\n",
      "32/32 [==============================] - 0s 2ms/step - loss: 0.4698\n",
      "Epoch 69/100\n",
      "32/32 [==============================] - 0s 2ms/step - loss: 0.4665\n",
      "Epoch 70/100\n",
      "32/32 [==============================] - 0s 2ms/step - loss: 0.4633\n",
      "Epoch 71/100\n",
      "32/32 [==============================] - 0s 2ms/step - loss: 0.4600\n",
      "Epoch 72/100\n",
      "32/32 [==============================] - 0s 2ms/step - loss: 0.4568\n",
      "Epoch 73/100\n",
      "32/32 [==============================] - 0s 2ms/step - loss: 0.4536\n",
      "Epoch 74/100\n",
      "32/32 [==============================] - 0s 2ms/step - loss: 0.4504\n",
      "Epoch 75/100\n",
      "32/32 [==============================] - 0s 2ms/step - loss: 0.4473\n",
      "Epoch 76/100\n",
      "32/32 [==============================] - 0s 2ms/step - loss: 0.4442\n",
      "Epoch 77/100\n",
      "32/32 [==============================] - 0s 2ms/step - loss: 0.4410\n",
      "Epoch 78/100\n",
      "32/32 [==============================] - 0s 2ms/step - loss: 0.4380\n",
      "Epoch 79/100\n",
      "32/32 [==============================] - 0s 2ms/step - loss: 0.4349\n",
      "Epoch 80/100\n",
      "32/32 [==============================] - 0s 2ms/step - loss: 0.4319\n",
      "Epoch 81/100\n",
      "32/32 [==============================] - 0s 2ms/step - loss: 0.4289\n",
      "Epoch 82/100\n",
      "32/32 [==============================] - 0s 2ms/step - loss: 0.4259\n",
      "Epoch 83/100\n",
      "32/32 [==============================] - 0s 2ms/step - loss: 0.4229\n",
      "Epoch 84/100\n",
      "32/32 [==============================] - 0s 2ms/step - loss: 0.4199\n",
      "Epoch 85/100\n",
      "32/32 [==============================] - 0s 2ms/step - loss: 0.4170\n",
      "Epoch 86/100\n",
      "32/32 [==============================] - 0s 2ms/step - loss: 0.4141\n",
      "Epoch 87/100\n",
      "32/32 [==============================] - 0s 2ms/step - loss: 0.4112\n",
      "Epoch 88/100\n",
      "32/32 [==============================] - 0s 2ms/step - loss: 0.4083\n",
      "Epoch 89/100\n",
      "32/32 [==============================] - 0s 2ms/step - loss: 0.4055\n",
      "Epoch 90/100\n",
      "32/32 [==============================] - 0s 2ms/step - loss: 0.4027\n",
      "Epoch 91/100\n",
      "32/32 [==============================] - 0s 2ms/step - loss: 0.3998\n",
      "Epoch 92/100\n",
      "32/32 [==============================] - 0s 2ms/step - loss: 0.3970\n",
      "Epoch 93/100\n",
      "32/32 [==============================] - 0s 2ms/step - loss: 0.3943\n",
      "Epoch 94/100\n",
      "32/32 [==============================] - 0s 2ms/step - loss: 0.3915\n",
      "Epoch 95/100\n",
      "32/32 [==============================] - 0s 2ms/step - loss: 0.3888\n",
      "Epoch 96/100\n",
      "32/32 [==============================] - 0s 2ms/step - loss: 0.3861\n",
      "Epoch 97/100\n",
      "32/32 [==============================] - 0s 2ms/step - loss: 0.3834\n",
      "Epoch 98/100\n",
      "32/32 [==============================] - 0s 2ms/step - loss: 0.3807\n",
      "Epoch 99/100\n",
      "32/32 [==============================] - 0s 2ms/step - loss: 0.3780\n",
      "Epoch 100/100\n",
      "32/32 [==============================] - 0s 2ms/step - loss: 0.3754\n"
     ]
    },
    {
     "data": {
      "text/plain": [
       "<keras.callbacks.History at 0x1a3269a5fd0>"
      ]
     },
     "execution_count": 42,
     "metadata": {},
     "output_type": "execute_result"
    }
   ],
   "source": [
    "model.fit(x,y,epochs=100)"
   ]
  },
  {
   "cell_type": "code",
   "execution_count": 43,
   "id": "f877e017-9277-4db8-b681-6228494752ad",
   "metadata": {},
   "outputs": [],
   "source": [
    "y_pred=model.predict(x)"
   ]
  },
  {
   "cell_type": "code",
   "execution_count": 54,
   "id": "b1eb3cf9-d849-49b4-971f-ce54b08b18cf",
   "metadata": {},
   "outputs": [],
   "source": [
    "import seaborn as sns"
   ]
  },
  {
   "cell_type": "code",
   "execution_count": 62,
   "id": "5f2763ca-8967-48fb-838c-4e333415779d",
   "metadata": {},
   "outputs": [
    {
     "data": {
      "text/html": [
       "<div>\n",
       "<style scoped>\n",
       "    .dataframe tbody tr th:only-of-type {\n",
       "        vertical-align: middle;\n",
       "    }\n",
       "\n",
       "    .dataframe tbody tr th {\n",
       "        vertical-align: top;\n",
       "    }\n",
       "\n",
       "    .dataframe thead th {\n",
       "        text-align: right;\n",
       "    }\n",
       "</style>\n",
       "<table border=\"1\" class=\"dataframe\">\n",
       "  <thead>\n",
       "    <tr style=\"text-align: right;\">\n",
       "      <th></th>\n",
       "      <th>1 - Distance From Bump</th>\n",
       "      <th>Height of Bump</th>\n",
       "    </tr>\n",
       "  </thead>\n",
       "  <tbody>\n",
       "    <tr>\n",
       "      <th>0</th>\n",
       "      <td>0.575374</td>\n",
       "      <td>0.680337</td>\n",
       "    </tr>\n",
       "    <tr>\n",
       "      <th>1</th>\n",
       "      <td>0.376002</td>\n",
       "      <td>0.278661</td>\n",
       "    </tr>\n",
       "    <tr>\n",
       "      <th>2</th>\n",
       "      <td>0.973890</td>\n",
       "      <td>0.741585</td>\n",
       "    </tr>\n",
       "    <tr>\n",
       "      <th>3</th>\n",
       "      <td>0.310378</td>\n",
       "      <td>0.342374</td>\n",
       "    </tr>\n",
       "    <tr>\n",
       "      <th>4</th>\n",
       "      <td>0.109521</td>\n",
       "      <td>0.268304</td>\n",
       "    </tr>\n",
       "    <tr>\n",
       "      <th>...</th>\n",
       "      <td>...</td>\n",
       "      <td>...</td>\n",
       "    </tr>\n",
       "    <tr>\n",
       "      <th>995</th>\n",
       "      <td>0.647629</td>\n",
       "      <td>0.648106</td>\n",
       "    </tr>\n",
       "    <tr>\n",
       "      <th>996</th>\n",
       "      <td>0.137925</td>\n",
       "      <td>0.207750</td>\n",
       "    </tr>\n",
       "    <tr>\n",
       "      <th>997</th>\n",
       "      <td>0.677919</td>\n",
       "      <td>0.689203</td>\n",
       "    </tr>\n",
       "    <tr>\n",
       "      <th>998</th>\n",
       "      <td>0.688943</td>\n",
       "      <td>0.663778</td>\n",
       "    </tr>\n",
       "    <tr>\n",
       "      <th>999</th>\n",
       "      <td>0.259053</td>\n",
       "      <td>0.198848</td>\n",
       "    </tr>\n",
       "  </tbody>\n",
       "</table>\n",
       "<p>1000 rows × 2 columns</p>\n",
       "</div>"
      ],
      "text/plain": [
       "     1 - Distance From Bump  Height of Bump\n",
       "0                  0.575374        0.680337\n",
       "1                  0.376002        0.278661\n",
       "2                  0.973890        0.741585\n",
       "3                  0.310378        0.342374\n",
       "4                  0.109521        0.268304\n",
       "..                      ...             ...\n",
       "995                0.647629        0.648106\n",
       "996                0.137925        0.207750\n",
       "997                0.677919        0.689203\n",
       "998                0.688943        0.663778\n",
       "999                0.259053        0.198848\n",
       "\n",
       "[1000 rows x 2 columns]"
      ]
     },
     "execution_count": 62,
     "metadata": {},
     "output_type": "execute_result"
    }
   ],
   "source": [
    "x"
   ]
  },
  {
   "cell_type": "code",
   "execution_count": 63,
   "id": "9ae3749f-fe93-4c71-a463-896853bfc143",
   "metadata": {},
   "outputs": [
    {
     "name": "stderr",
     "output_type": "stream",
     "text": [
      "C:\\Users\\Asus\\anaconda31\\lib\\site-packages\\seaborn\\_decorators.py:36: FutureWarning: Pass the following variables as keyword args: x, y. From version 0.12, the only valid positional argument will be `data`, and passing other arguments without an explicit keyword will result in an error or misinterpretation.\n",
      "  warnings.warn(\n"
     ]
    },
    {
     "data": {
      "text/plain": [
       "<AxesSubplot:xlabel='1 - Distance From Bump', ylabel='Speed'>"
      ]
     },
     "execution_count": 63,
     "metadata": {},
     "output_type": "execute_result"
    },
    {
     "data": {
      "image/png": "[encoded data removed]",
      "text/plain": [
       "<Figure size 432x288 with 1 Axes>"
      ]
     },
     "metadata": {
      "needs_background": "light"
     },
     "output_type": "display_data"
    }
   ],
   "source": [
    "sns.scatterplot(x.iloc[:,0],y)"
   ]
  },
  {
   "cell_type": "code",
   "execution_count": 64,
   "id": "e96a9a9c-6aa1-4cb6-832b-eda6391489cd",
   "metadata": {},
   "outputs": [
    {
     "name": "stderr",
     "output_type": "stream",
     "text": [
      "C:\\Users\\Asus\\anaconda31\\lib\\site-packages\\seaborn\\_decorators.py:36: FutureWarning: Pass the following variables as keyword args: x, y. From version 0.12, the only valid positional argument will be `data`, and passing other arguments without an explicit keyword will result in an error or misinterpretation.\n",
      "  warnings.warn(\n"
     ]
    },
    {
     "data": {
      "text/plain": [
       "<AxesSubplot:xlabel='Height of Bump', ylabel='Speed'>"
      ]
     },
     "execution_count": 64,
     "metadata": {},
     "output_type": "execute_result"
    },
    {
     "data": {
      "image/png": "[encoded data removed]",
      "text/plain": [
       "<Figure size 432x288 with 1 Axes>"
      ]
     },
     "metadata": {
      "needs_background": "light"
     },
     "output_type": "display_data"
    }
   ],
   "source": [
    "sns.scatterplot(x.iloc[:,1],y)"
   ]
  },
  {
   "cell_type": "code",
   "execution_count": 74,
   "id": "8278f03b-f610-435c-8e3f-6b20750b50a8",
   "metadata": {},
   "outputs": [
    {
     "name": "stderr",
     "output_type": "stream",
     "text": [
      "C:\\Users\\Asus\\anaconda31\\lib\\site-packages\\seaborn\\_decorators.py:36: FutureWarning: Pass the following variables as keyword args: x, y. From version 0.12, the only valid positional argument will be `data`, and passing other arguments without an explicit keyword will result in an error or misinterpretation.\n",
      "  warnings.warn(\n"
     ]
    },
    {
     "data": {
      "text/plain": [
       "<AxesSubplot:xlabel='1 - Distance From Bump', ylabel='Height of Bump'>"
      ]
     },
     "execution_count": 74,
     "metadata": {},
     "output_type": "execute_result"
    },
    {
     "data": {
      "image/png": "[encoded data removed]",
      "text/plain": [
       "<Figure size 720x720 with 1 Axes>"
      ]
     },
     "metadata": {
      "needs_background": "light"
     },
     "output_type": "display_data"
    }
   ],
   "source": [
    "import matplotlib.pyplot as plt\n",
    "plt.figure(figsize=[10,10])\n",
    "sns.scatterplot(x.iloc[:,0],x.iloc[:,1], hue=y)"
   ]
  },
  {
   "cell_type": "code",
   "execution_count": 60,
   "id": "375b926d-bddd-4c10-858a-0c6faedc6bc9",
   "metadata": {},
   "outputs": [
    {
     "data": {
      "text/plain": [
       "0      0\n",
       "1      1\n",
       "2      0\n",
       "3      1\n",
       "4      1\n",
       "      ..\n",
       "995    0\n",
       "996    1\n",
       "997    0\n",
       "998    0\n",
       "999    1\n",
       "Name: Speed, Length: 1000, dtype: int64"
      ]
     },
     "execution_count": 60,
     "metadata": {},
     "output_type": "execute_result"
    }
   ],
   "source": [
    "y"
   ]
  },
  {
   "cell_type": "code",
   "execution_count": null,
   "id": "376a2718-82a6-40d5-b151-614f7694e680",
   "metadata": {},
   "outputs": [],
   "source": []
  },
  {
   "cell_type": "code",
   "execution_count": null,
   "id": "1e6a37e9-ee76-46cc-8dbc-c1d2c269d235",
   "metadata": {},
   "outputs": [],
   "source": []
  },
  {
   "cell_type": "code",
   "execution_count": 46,
   "id": "036dca65-aba0-46a5-93b2-d70f4a5efa73",
   "metadata": {},
   "outputs": [
    {
     "data": {
      "text/plain": [
       "0      0\n",
       "1      1\n",
       "2      0\n",
       "3      1\n",
       "4      1\n",
       "      ..\n",
       "995    0\n",
       "996    1\n",
       "997    0\n",
       "998    0\n",
       "999    1\n",
       "Name: Speed, Length: 1000, dtype: int64"
      ]
     },
     "execution_count": 46,
     "metadata": {},
     "output_type": "execute_result"
    }
   ],
   "source": [
    "yscatterplot"
   ]
  },
  {
   "cell_type": "code",
   "execution_count": null,
   "id": "c7660093-27d4-47eb-9314-1f0e308baeca",
   "metadata": {},
   "outputs": [],
   "source": [
    "y_pred"
   ]
  },
  {
   "cell_type": "code",
   "execution_count": null,
   "id": "864ba1c6-9fd7-4548-a795-37531eacb07c",
   "metadata": {},
   "outputs": [],
   "source": []
  },
  {
   "cell_type": "code",
   "execution_count": 49,
   "id": "0c6111f8-4bc1-4c93-86b3-c230c50478d9",
   "metadata": {},
   "outputs": [],
   "source": [
    "df2=pd.DataFrame(y)"
   ]
  },
  {
   "cell_type": "code",
   "execution_count": 51,
   "id": "0e1981d9-4ef4-4243-bdad-78ee3742c54e",
   "metadata": {},
   "outputs": [],
   "source": [
    "df2['Pred_Speed']=y_pred"
   ]
  },
  {
   "cell_type": "code",
   "execution_count": 52,
   "id": "4fbc1ef6-f117-4dc1-9519-a9ac2820df12",
   "metadata": {},
   "outputs": [
    {
     "data": {
      "text/html": [
       "<div>\n",
       "<style scoped>\n",
       "    .dataframe tbody tr th:only-of-type {\n",
       "        vertical-align: middle;\n",
       "    }\n",
       "\n",
       "    .dataframe tbody tr th {\n",
       "        vertical-align: top;\n",
       "    }\n",
       "\n",
       "    .dataframe thead th {\n",
       "        text-align: right;\n",
       "    }\n",
       "</style>\n",
       "<table border=\"1\" class=\"dataframe\">\n",
       "  <thead>\n",
       "    <tr style=\"text-align: right;\">\n",
       "      <th></th>\n",
       "      <th>Speed</th>\n",
       "      <th>Pred_Speed</th>\n",
       "    </tr>\n",
       "  </thead>\n",
       "  <tbody>\n",
       "    <tr>\n",
       "      <th>0</th>\n",
       "      <td>0</td>\n",
       "      <td>0.304275</td>\n",
       "    </tr>\n",
       "    <tr>\n",
       "      <th>1</th>\n",
       "      <td>1</td>\n",
       "      <td>0.572355</td>\n",
       "    </tr>\n",
       "    <tr>\n",
       "      <th>2</th>\n",
       "      <td>0</td>\n",
       "      <td>0.146041</td>\n",
       "    </tr>\n",
       "    <tr>\n",
       "      <th>3</th>\n",
       "      <td>1</td>\n",
       "      <td>0.578606</td>\n",
       "    </tr>\n",
       "    <tr>\n",
       "      <th>4</th>\n",
       "      <td>1</td>\n",
       "      <td>0.703879</td>\n",
       "    </tr>\n",
       "    <tr>\n",
       "      <th>...</th>\n",
       "      <td>...</td>\n",
       "      <td>...</td>\n",
       "    </tr>\n",
       "    <tr>\n",
       "      <th>995</th>\n",
       "      <td>0</td>\n",
       "      <td>0.284653</td>\n",
       "    </tr>\n",
       "    <tr>\n",
       "      <th>996</th>\n",
       "      <td>1</td>\n",
       "      <td>0.713495</td>\n",
       "    </tr>\n",
       "    <tr>\n",
       "      <th>997</th>\n",
       "      <td>0</td>\n",
       "      <td>0.257963</td>\n",
       "    </tr>\n",
       "    <tr>\n",
       "      <th>998</th>\n",
       "      <td>0</td>\n",
       "      <td>0.262089</td>\n",
       "    </tr>\n",
       "    <tr>\n",
       "      <th>999</th>\n",
       "      <td>1</td>\n",
       "      <td>0.662653</td>\n",
       "    </tr>\n",
       "  </tbody>\n",
       "</table>\n",
       "<p>1000 rows × 2 columns</p>\n",
       "</div>"
      ],
      "text/plain": [
       "     Speed  Pred_Speed\n",
       "0        0    0.304275\n",
       "1        1    0.572355\n",
       "2        0    0.146041\n",
       "3        1    0.578606\n",
       "4        1    0.703879\n",
       "..     ...         ...\n",
       "995      0    0.284653\n",
       "996      1    0.713495\n",
       "997      0    0.257963\n",
       "998      0    0.262089\n",
       "999      1    0.662653\n",
       "\n",
       "[1000 rows x 2 columns]"
      ]
     },
     "execution_count": 52,
     "metadata": {},
     "output_type": "execute_result"
    }
   ],
   "source": [
    "df2"
   ]
  },
  {
   "cell_type": "code",
   "execution_count": 77,
   "id": "72e55a74-0e2b-4f33-ad26-253046e50e64",
   "metadata": {},
   "outputs": [
    {
     "name": "stderr",
     "output_type": "stream",
     "text": [
      "<ipython-input-77-3226163ee750>:1: SettingWithCopyWarning: \n",
      "A value is trying to be set on a copy of a slice from a DataFrame\n",
      "\n",
      "See the caveats in the documentation: https://pandas.pydata.org/pandas-docs/stable/user_guide/indexing.html#returning-a-view-versus-a-copy\n",
      "  df2[\"Pred_Speed\"][df2[\"Pred_Speed\"]>0.5]=1\n"
     ]
    }
   ],
   "source": [
    "df2[\"Pred_Speed\"][df2[\"Pred_Speed\"]>0.5]=1"
   ]
  },
  {
   "cell_type": "code",
   "execution_count": 78,
   "id": "6d85c878-f481-4ab7-8078-71ec6760693c",
   "metadata": {},
   "outputs": [
    {
     "data": {
      "text/plain": [
       "0      0.304275\n",
       "1      1.000000\n",
       "2      0.146041\n",
       "3      1.000000\n",
       "4      1.000000\n",
       "         ...   \n",
       "995    0.284653\n",
       "996    1.000000\n",
       "997    0.257963\n",
       "998    0.262089\n",
       "999    1.000000\n",
       "Name: Pred_Speed, Length: 1000, dtype: float32"
      ]
     },
     "execution_count": 78,
     "metadata": {},
     "output_type": "execute_result"
    }
   ],
   "source": [
    "df2[\"Pred_Speed\"]"
   ]
  },
  {
   "cell_type": "code",
   "execution_count": 79,
   "id": "80d2bc0f-b746-429b-b5d7-1639ba57ff7c",
   "metadata": {},
   "outputs": [
    {
     "name": "stderr",
     "output_type": "stream",
     "text": [
      "<ipython-input-79-ebc5bf90c0a9>:1: SettingWithCopyWarning: \n",
      "A value is trying to be set on a copy of a slice from a DataFrame\n",
      "\n",
      "See the caveats in the documentation: https://pandas.pydata.org/pandas-docs/stable/user_guide/indexing.html#returning-a-view-versus-a-copy\n",
      "  df2[\"Pred_Speed\"][df2[\"Pred_Speed\"]<=0.5]=0\n"
     ]
    }
   ],
   "source": [
    "df2[\"Pred_Speed\"][df2[\"Pred_Speed\"]<=0.5]=0"
   ]
  },
  {
   "cell_type": "code",
   "execution_count": 80,
   "id": "5a79425d-e417-417d-bcd5-54561e8e2e82",
   "metadata": {},
   "outputs": [
    {
     "data": {
      "text/html": [
       "<div>\n",
       "<style scoped>\n",
       "    .dataframe tbody tr th:only-of-type {\n",
       "        vertical-align: middle;\n",
       "    }\n",
       "\n",
       "    .dataframe tbody tr th {\n",
       "        vertical-align: top;\n",
       "    }\n",
       "\n",
       "    .dataframe thead th {\n",
       "        text-align: right;\n",
       "    }\n",
       "</style>\n",
       "<table border=\"1\" class=\"dataframe\">\n",
       "  <thead>\n",
       "    <tr style=\"text-align: right;\">\n",
       "      <th></th>\n",
       "      <th>Speed</th>\n",
       "      <th>Pred_Speed</th>\n",
       "    </tr>\n",
       "  </thead>\n",
       "  <tbody>\n",
       "    <tr>\n",
       "      <th>0</th>\n",
       "      <td>0</td>\n",
       "      <td>0.0</td>\n",
       "    </tr>\n",
       "    <tr>\n",
       "      <th>1</th>\n",
       "      <td>1</td>\n",
       "      <td>1.0</td>\n",
       "    </tr>\n",
       "    <tr>\n",
       "      <th>2</th>\n",
       "      <td>0</td>\n",
       "      <td>0.0</td>\n",
       "    </tr>\n",
       "    <tr>\n",
       "      <th>3</th>\n",
       "      <td>1</td>\n",
       "      <td>1.0</td>\n",
       "    </tr>\n",
       "    <tr>\n",
       "      <th>4</th>\n",
       "      <td>1</td>\n",
       "      <td>1.0</td>\n",
       "    </tr>\n",
       "    <tr>\n",
       "      <th>...</th>\n",
       "      <td>...</td>\n",
       "      <td>...</td>\n",
       "    </tr>\n",
       "    <tr>\n",
       "      <th>995</th>\n",
       "      <td>0</td>\n",
       "      <td>0.0</td>\n",
       "    </tr>\n",
       "    <tr>\n",
       "      <th>996</th>\n",
       "      <td>1</td>\n",
       "      <td>1.0</td>\n",
       "    </tr>\n",
       "    <tr>\n",
       "      <th>997</th>\n",
       "      <td>0</td>\n",
       "      <td>0.0</td>\n",
       "    </tr>\n",
       "    <tr>\n",
       "      <th>998</th>\n",
       "      <td>0</td>\n",
       "      <td>0.0</td>\n",
       "    </tr>\n",
       "    <tr>\n",
       "      <th>999</th>\n",
       "      <td>1</td>\n",
       "      <td>1.0</td>\n",
       "    </tr>\n",
       "  </tbody>\n",
       "</table>\n",
       "<p>1000 rows × 2 columns</p>\n",
       "</div>"
      ],
      "text/plain": [
       "     Speed  Pred_Speed\n",
       "0        0         0.0\n",
       "1        1         1.0\n",
       "2        0         0.0\n",
       "3        1         1.0\n",
       "4        1         1.0\n",
       "..     ...         ...\n",
       "995      0         0.0\n",
       "996      1         1.0\n",
       "997      0         0.0\n",
       "998      0         0.0\n",
       "999      1         1.0\n",
       "\n",
       "[1000 rows x 2 columns]"
      ]
     },
     "execution_count": 80,
     "metadata": {},
     "output_type": "execute_result"
    }
   ],
   "source": [
    "df2"
   ]
  },
  {
   "cell_type": "code",
   "execution_count": 82,
   "id": "57a87557-c9dd-4213-8391-b9351b445e70",
   "metadata": {},
   "outputs": [
    {
     "data": {
      "text/plain": [
       "4"
      ]
     },
     "execution_count": 82,
     "metadata": {},
     "output_type": "execute_result"
    }
   ],
   "source": [
    "(df2[\"Speed\"]!=df2[\"Pred_Speed\"]).sum()"
   ]
  },
  {
   "cell_type": "code",
   "execution_count": 85,
   "id": "c9ed1f0a-d5d4-4b0c-91c4-a5e95a542fea",
   "metadata": {},
   "outputs": [],
   "source": [
    "\n",
    "from sklearn.metrics import classification_report as cvs"
   ]
  },
  {
   "cell_type": "code",
   "execution_count": 88,
   "id": "e9f40d07-170c-4d66-aba4-d4d23d6e2f6b",
   "metadata": {},
   "outputs": [
    {
     "data": {
      "text/plain": [
       "'              precision    recall  f1-score   support\\n\\n           0       0.99      1.00      1.00       500\\n           1       1.00      0.99      1.00       500\\n\\n    accuracy                           1.00      1000\\n   macro avg       1.00      1.00      1.00      1000\\nweighted avg       1.00      1.00      1.00      1000\\n'"
      ]
     },
     "execution_count": 88,
     "metadata": {},
     "output_type": "execute_result"
    }
   ],
   "source": [
    "cvs(df2.iloc[:,0],df2.iloc[:,1])"
   ]
  },
  {
   "cell_type": "code",
   "execution_count": 89,
   "id": "68046694-4f6f-42ff-8c81-1f75c7b53bcb",
   "metadata": {},
   "outputs": [],
   "source": [
    "from sklearn.metrics import confusion_matrix as cm"
   ]
  },
  {
   "cell_type": "code",
   "execution_count": 93,
   "id": "6ecf7dca-a7f5-4eb1-b9ee-5fc7f0e8a9cc",
   "metadata": {},
   "outputs": [],
   "source": [
    "cm_=cm(df2.iloc[:,0],df2.iloc[:,1])"
   ]
  },
  {
   "cell_type": "code",
   "execution_count": 96,
   "id": "08a6ee59-c553-46f0-aa61-fe7d7c2bd6dd",
   "metadata": {},
   "outputs": [
    {
     "data": {
      "text/plain": [
       "<AxesSubplot:>"
      ]
     },
     "execution_count": 96,
     "metadata": {},
     "output_type": "execute_result"
    },
    {
     "data": {
      "image/png": "[encoded data removed]",
      "text/plain": [
       "<Figure size 432x288 with 2 Axes>"
      ]
     },
     "metadata": {
      "needs_background": "light"
     },
     "output_type": "display_data"
    }
   ],
   "source": [
    "sns.heatmap(cm_, annot= True, cmap='viridis')"
   ]
  },
  {
   "cell_type": "code",
   "execution_count": 97,
   "id": "422d3dc8-6ddc-4d91-b376-c9d77608c4e2",
   "metadata": {},
   "outputs": [
    {
     "name": "stderr",
     "output_type": "stream",
     "text": [
      "*c* argument looks like a single numeric RGB or RGBA sequence, which should be avoided as value-mapping will have precedence in case its length matches with *x* & *y*.  Please use the *color* keyword-argument or provide a 2D array with a single row if you intend to specify the same RGB or RGBA value for all points.\n",
      "*c* argument looks like a single numeric RGB or RGBA sequence, which should be avoided as value-mapping will have precedence in case its length matches with *x* & *y*.  Please use the *color* keyword-argument or provide a 2D array with a single row if you intend to specify the same RGB or RGBA value for all points.\n"
     ]
    },
    {
     "data": {
      "image/png": "[encoded data removed]",
      "text/plain": [
       "<Figure size 432x288 with 1 Axes>"
      ]
     },
     "metadata": {
      "needs_background": "light"
     },
     "output_type": "display_data"
    }
   ],
   "source": [
    "from matplotlib.colors import ListedColormap\n",
    "X_set, y_set = x.values, y.values\n",
    "X1, X2 = np.meshgrid(np.arange(start = X_set[:, 0].min() , stop = X_set[:, 0].max(), step = 0.01),\n",
    "                     np.arange(start = X_set[:, 1].min(), stop = X_set[:, 1].max(), step = 0.01))\n",
    "plt.contourf(X1, X2, model.predict(np.array([X1.ravel(), X2.ravel()]).T).reshape(X1.shape),\n",
    "             alpha = 0.75, cmap = ListedColormap(('red', 'green')))\n",
    "plt.xlim(X1.min(), X1.max())\n",
    "plt.ylim(X2.min(), X2.max())\n",
    "for i, j in enumerate(np.unique(y_set)):\n",
    "    plt.scatter(X_set[y_set == j, 0], X_set[y_set == j, 1],\n",
    "                c = ListedColormap(('red', 'green'))(i), label = j)\n",
    "    \n",
    "plt.title('Training Classification Results')\n",
    "plt.xlabel('1-Distance from Bump')\n",
    "plt.ylabel('Height of Bump')\n",
    "plt.legend()\n",
    "plt.show()"
   ]
  },
  {
   "cell_type": "code",
   "execution_count": 98,
   "id": "1ef7e6d2-e0be-4ccb-a9d9-6be3ac585459",
   "metadata": {},
   "outputs": [
    {
     "name": "stderr",
     "output_type": "stream",
     "text": [
      "C:\\Users\\Asus\\anaconda31\\lib\\site-packages\\seaborn\\distributions.py:2557: FutureWarning: `distplot` is a deprecated function and will be removed in a future version. Please adapt your code to use either `displot` (a figure-level function with similar flexibility) or `histplot` (an axes-level function for histograms).\n",
      "  warnings.warn(msg, FutureWarning)\n"
     ]
    },
    {
     "data": {
      "text/plain": [
       "<AxesSubplot:xlabel='1 - Distance From Bump', ylabel='Density'>"
      ]
     },
     "execution_count": 98,
     "metadata": {},
     "output_type": "execute_result"
    },
    {
     "data": {
      "image/png": "[encoded data removed]",
      "text/plain": [
       "<Figure size 432x288 with 1 Axes>"
      ]
     },
     "metadata": {
      "needs_background": "light"
     },
     "output_type": "display_data"
    }
   ],
   "source": [
    "sns.distplot(x.iloc[:,0])"
   ]
  },
  {
   "cell_type": "code",
   "execution_count": 99,
   "id": "780aa3bb-092b-450d-b593-5c8afb5043c9",
   "metadata": {},
   "outputs": [
    {
     "name": "stderr",
     "output_type": "stream",
     "text": [
      "C:\\Users\\Asus\\anaconda31\\lib\\site-packages\\seaborn\\distributions.py:2557: FutureWarning: `distplot` is a deprecated function and will be removed in a future version. Please adapt your code to use either `displot` (a figure-level function with similar flexibility) or `histplot` (an axes-level function for histograms).\n",
      "  warnings.warn(msg, FutureWarning)\n"
     ]
    },
    {
     "data": {
      "text/plain": [
       "<AxesSubplot:xlabel='Height of Bump', ylabel='Density'>"
      ]
     },
     "execution_count": 99,
     "metadata": {},
     "output_type": "execute_result"
    },
    {
     "data": {
      "image/png": "[encoded data removed]",
      "text/plain": [
       "<Figure size 432x288 with 1 Axes>"
      ]
     },
     "metadata": {
      "needs_background": "light"
     },
     "output_type": "display_data"
    }
   ],
   "source": [
    "sns.distplot(x.iloc[:,1])"
   ]
  },
  {
   "cell_type": "code",
   "execution_count": 105,
   "id": "f1ecfdb9-fd07-4a02-b06e-3c48e38a96e1",
   "metadata": {},
   "outputs": [],
   "source": [
    "w,b=model.layers[0].get_weights()"
   ]
  },
  {
   "cell_type": "code",
   "execution_count": 106,
   "id": "17e6892c-5310-4c30-ab2d-ff9f3135ed28",
   "metadata": {},
   "outputs": [
    {
     "data": {
      "text/plain": [
       "array([[-2.0874534],\n",
       "       [-1.7484415]], dtype=float32)"
      ]
     },
     "execution_count": 106,
     "metadata": {},
     "output_type": "execute_result"
    }
   ],
   "source": [
    "w"
   ]
  },
  {
   "cell_type": "code",
   "execution_count": 107,
   "id": "165c700d-348f-4876-b8b6-1c491d7b60a9",
   "metadata": {},
   "outputs": [
    {
     "data": {
      "text/plain": [
       "array([1.5635724], dtype=float32)"
      ]
     },
     "execution_count": 107,
     "metadata": {},
     "output_type": "execute_result"
    }
   ],
   "source": [
    "b"
   ]
  },
  {
   "cell_type": "code",
   "execution_count": 108,
   "id": "77a838e0-6016-4df3-9041-b004de5ae92c",
   "metadata": {},
   "outputs": [
    {
     "data": {
      "text/plain": [
       "<matplotlib.contour.QuadContourSet at 0x1a330ffb550>"
      ]
     },
     "execution_count": 108,
     "metadata": {},
     "output_type": "execute_result"
    },
    {
     "data": {
      "image/png": "[encoded data removed]",
      "text/plain": [
       "<Figure size 432x288 with 1 Axes>"
      ]
     },
     "metadata": {
      "needs_background": "light"
     },
     "output_type": "display_data"
    }
   ],
   "source": [
    "plt.contourf(X1, X2, model.predict(np.array([X1.ravel(), X2.ravel()]).T).reshape(X1.shape),\n",
    "             alpha = 0.75, cmap = ListedColormap(('red', 'green')))"
   ]
  },
  {
   "cell_type": "code",
   "execution_count": 114,
   "id": "d6d65372-2120-4a48-aa03-fb5136b7eb72",
   "metadata": {},
   "outputs": [
    {
     "data": {
      "text/plain": [
       "array([[0.  , 0.  ],\n",
       "       [0.01, 0.  ],\n",
       "       [0.02, 0.  ],\n",
       "       ...,\n",
       "       [0.97, 0.99],\n",
       "       [0.98, 0.99],\n",
       "       [0.99, 0.99]])"
      ]
     },
     "execution_count": 114,
     "metadata": {},
     "output_type": "execute_result"
    }
   ],
   "source": [
    "(np.array([X1.ravel(), X2.ravel()]).T)"
   ]
  },
  {
   "cell_type": "code",
   "execution_count": 111,
   "id": "ddca03c6-692f-41ce-b337-2834b95eff8f",
   "metadata": {},
   "outputs": [
    {
     "data": {
      "text/plain": [
       "array([0.  , 0.01, 0.02, ..., 0.97, 0.98, 0.99])"
      ]
     },
     "execution_count": 111,
     "metadata": {},
     "output_type": "execute_result"
    }
   ],
   "source": [
    "X1.ravel()"
   ]
  },
  {
   "cell_type": "code",
   "execution_count": 112,
   "id": "4ac2b396-7028-46aa-a906-b731af4196f5",
   "metadata": {},
   "outputs": [
    {
     "data": {
      "text/plain": [
       "array([0.  , 0.  , 0.  , ..., 0.99, 0.99, 0.99])"
      ]
     },
     "execution_count": 112,
     "metadata": {},
     "output_type": "execute_result"
    }
   ],
   "source": [
    "X2.ravel()"
   ]
  },
  {
   "cell_type": "code",
   "execution_count": 115,
   "id": "fb74de5e-7e57-4bf3-ac22-6543ee1c32ae",
   "metadata": {},
   "outputs": [
    {
     "data": {
      "text/plain": [
       "array([[0.57537421, 0.68033653],\n",
       "       [0.37600198, 0.27866057],\n",
       "       [0.97389016, 0.7415853 ],\n",
       "       ...,\n",
       "       [0.67791919, 0.68920251],\n",
       "       [0.68894336, 0.6637778 ],\n",
       "       [0.25905288, 0.19884766]])"
      ]
     },
     "execution_count": 115,
     "metadata": {},
     "output_type": "execute_result"
    }
   ],
   "source": [
    "X_set"
   ]
  },
  {
   "cell_type": "code",
   "execution_count": 116,
   "id": "301d3d3c-498c-40ef-97f9-04b55ae00c8f",
   "metadata": {},
   "outputs": [
    {
     "data": {
      "text/plain": [
       "array([0.37600198, 0.31037807, 0.10952094, 0.12294487, 0.2108757 ,\n",
       "       0.21079924, 0.16895462, 0.10542102, 0.13515591, 0.125128  ,\n",
       "       0.38575704, 0.20990149, 0.36627013, 0.38648725, 0.05761377,\n",
       "       0.11219089, 0.2659959 , 0.15106317, 0.27075217, 0.30233409,\n",
       "       0.21289902, 0.14200722, 0.20108797, 0.27709815, 0.1221199 ,\n",
       "       0.28187277, 0.28382135, 0.19399696, 0.20263855, 0.15484405,\n",
       "       0.34177862, 0.31550608, 0.15234348, 0.27469237, 0.40302841,\n",
       "       0.15464279, 0.20058341, 0.23289731, 0.22173708, 0.33720142,\n",
       "       0.21237843, 0.24201196, 0.2784452 , 0.14673325, 0.32303653,\n",
       "       0.22405942, 0.        , 0.21899827, 0.26993652, 0.39546596,\n",
       "       0.24912114, 0.46564608, 0.33778652, 0.29517214, 0.15902643,\n",
       "       0.13215891, 0.4157605 , 0.14102618, 0.21460047, 0.27013637,\n",
       "       0.34997639, 0.27810652, 0.25030488, 0.20528027, 0.24429076,\n",
       "       0.33173442, 0.2943921 , 0.23928379, 0.27812686, 0.19710823,\n",
       "       0.34821024, 0.29355436, 0.37012907, 0.19475987, 0.19810457,\n",
       "       0.18117235, 0.24479942, 0.38871173, 0.33154213, 0.21640722,\n",
       "       0.19171583, 0.28603209, 0.22879383, 0.33266465, 0.45217979,\n",
       "       0.39169602, 0.02487711, 0.35259103, 0.29514538, 0.28095856,\n",
       "       0.13697961, 0.33111527, 0.31110257, 0.09374717, 0.05584434,\n",
       "       0.31121859, 0.22820482, 0.13096665, 0.21540523, 0.15806708,\n",
       "       0.25406696, 0.0263806 , 0.32016239, 0.19961849, 0.32973294,\n",
       "       0.33786115, 0.42315227, 0.31864029, 0.25438921, 0.43596385,\n",
       "       0.2361967 , 0.39207987, 0.09993056, 0.23314512, 0.34949221,\n",
       "       0.25087131, 0.30951771, 0.16547831, 0.34191567, 0.25540916,\n",
       "       0.29731766, 0.17776186, 0.19955021, 0.1915855 , 0.30917396,\n",
       "       0.21847054, 0.29249704, 0.15188167, 0.1329004 , 0.16413528,\n",
       "       0.02262522, 0.25695501, 0.15786979, 0.0532941 , 0.21422748,\n",
       "       0.18835412, 0.19422163, 0.30538492, 0.4504814 , 0.43463214,\n",
       "       0.22039671, 0.28167478, 0.29676767, 0.39832606, 0.15311251,\n",
       "       0.32996016, 0.35702639, 0.35702801, 0.25209645, 0.44458962,\n",
       "       0.25562399, 0.13602893, 0.3282821 , 0.18136738, 0.33793902,\n",
       "       0.25007703, 0.36924754, 0.2757676 , 0.16277244, 0.14630368,\n",
       "       0.31239708, 0.19405838, 0.37527381, 0.35352859, 0.17666998,\n",
       "       0.23188126, 0.14596691, 0.2936676 , 0.39858214, 0.18719844,\n",
       "       0.22673157, 0.23043045, 0.18388138, 0.23671686, 0.27731297,\n",
       "       0.21070723, 0.27060424, 0.27593286, 0.23435948, 0.26337736,\n",
       "       0.24198243, 0.17112391, 0.19524169, 0.01566779, 0.268154  ,\n",
       "       0.23830454, 0.19845615, 0.18030192, 0.38547073, 0.23101875,\n",
       "       0.06686602, 0.33243506, 0.28918825, 0.35521902, 0.30159578,\n",
       "       0.2521616 , 0.1261216 , 0.30425657, 0.39944486, 0.22240855,\n",
       "       0.07229731, 0.37713951, 0.36943156, 0.18259412, 0.31087672,\n",
       "       0.29741182, 0.17875199, 0.44084659, 0.24025688, 0.37251618,\n",
       "       0.21972643, 0.23425287, 0.15190387, 0.13204174, 0.15110781,\n",
       "       0.18587889, 0.34006422, 0.34183518, 0.19477344, 0.20608621,\n",
       "       0.30980614, 0.28110141, 0.11384271, 0.24843952, 0.27982905,\n",
       "       0.17846583, 0.17521007, 0.23085275, 0.13888011, 0.18894258,\n",
       "       0.22711828, 0.27624697, 0.06797242, 0.28303453, 0.2887707 ,\n",
       "       0.26133009, 0.31596933, 0.24767062, 0.23168627, 0.26362696,\n",
       "       0.29862986, 0.32776409, 0.19329648, 0.17662827, 0.26258658,\n",
       "       0.26016446, 0.3681976 , 0.23570897, 0.27729349, 0.17377823,\n",
       "       0.11987516, 0.4141655 , 0.25088553, 0.36727712, 0.15781282,\n",
       "       0.32322247, 0.08884063, 0.30166056, 0.40561086, 0.44656136,\n",
       "       0.37083189, 0.26765332, 0.22300932, 0.1813292 , 0.31926585,\n",
       "       0.17542078, 0.21896888, 0.26748306, 0.41740931, 0.2713919 ,\n",
       "       0.1272612 , 0.26987721, 0.21353891, 0.13346085, 0.30812643,\n",
       "       0.2410297 , 0.25977963, 0.44316797, 0.17591738, 0.22421933,\n",
       "       0.37775062, 0.26457079, 0.38944332, 0.30755678, 0.30390793,\n",
       "       0.31224614, 0.0902986 , 0.27886034, 0.25419744, 0.25786894,\n",
       "       0.20944843, 0.25838033, 0.43455161, 0.28601531, 0.07131359,\n",
       "       0.32963441, 0.35521833, 0.34071136, 0.40985689, 0.19621228,\n",
       "       0.21757388, 0.34007029, 0.23701401, 0.27754396, 0.04348965,\n",
       "       0.33695876, 0.28489082, 0.4461715 , 0.25821224, 0.26783701,\n",
       "       0.3483934 , 0.32832384, 0.21697393, 0.392356  , 0.42181106,\n",
       "       0.11285366, 0.19524569, 0.26788527, 0.15486846, 0.11518846,\n",
       "       0.29055916, 0.16808785, 0.35540328, 0.27972884, 0.31986981,\n",
       "       0.25156164, 0.20859038, 0.16731382, 0.32450832, 0.21915787,\n",
       "       0.15726309, 0.18405072, 0.30309769, 0.31261096, 0.30861408,\n",
       "       0.1583968 , 0.29683359, 0.19564701, 0.19297104, 0.26417651,\n",
       "       0.19392865, 0.39136034, 0.27597233, 0.25303743, 0.30031938,\n",
       "       0.37655142, 0.39807065, 0.29798765, 0.26679154, 0.29407329,\n",
       "       0.32579428, 0.21357244, 0.39718772, 0.28384204, 0.44549844,\n",
       "       0.11993328, 0.22494095, 0.28888165, 0.32363682, 0.27896053,\n",
       "       0.21337272, 0.30942336, 0.30129121, 0.3568638 , 0.29580086,\n",
       "       0.45177967, 0.26431548, 0.14769771, 0.28303979, 0.22224057,\n",
       "       0.35506601, 0.36870192, 0.18828568, 0.23912337, 0.33423855,\n",
       "       0.26787292, 0.06884472, 0.39944873, 0.3414661 , 0.28954102,\n",
       "       0.28559177, 0.21978244, 0.1829885 , 0.36419529, 0.39783257,\n",
       "       0.19505922, 0.21702515, 0.2812634 , 0.3880476 , 0.21765984,\n",
       "       0.05491618, 0.2965978 , 0.23394673, 0.28077532, 0.4951137 ,\n",
       "       0.31548779, 0.21036904, 0.44130319, 0.23521458, 0.22763363,\n",
       "       0.2137004 , 0.31574715, 0.21238645, 0.14487819, 0.29656994,\n",
       "       0.17198767, 0.2176538 , 0.29186115, 0.17824833, 0.39795007,\n",
       "       0.35437732, 0.48193407, 0.21289112, 0.41957476, 0.16423039,\n",
       "       0.32081382, 0.12435297, 0.25018571, 0.18800878, 0.23068789,\n",
       "       0.11153758, 0.1748915 , 0.34204913, 0.36562446, 0.15550615,\n",
       "       0.1229923 , 0.25597124, 0.17332814, 0.06824312, 0.34469993,\n",
       "       0.21109866, 0.13321946, 0.30231425, 0.33481813, 0.2015007 ,\n",
       "       0.17381923, 0.38117242, 0.29760443, 0.10285637, 0.40418457,\n",
       "       0.23440888, 0.22847478, 0.30937391, 0.22947804, 0.05675146,\n",
       "       0.16443719, 0.24133563, 0.34869259, 0.41629699, 0.2588052 ,\n",
       "       0.17955403, 0.23886393, 0.14988117, 0.24939493, 0.21250293,\n",
       "       0.16216036, 0.25842737, 0.16464346, 0.35597229, 0.10554047,\n",
       "       0.14881493, 0.29451172, 0.26809593, 0.1699093 , 0.07338583,\n",
       "       0.25243256, 0.13747244, 0.21492464, 0.27878179, 0.07624747,\n",
       "       0.37468477, 0.36986205, 0.21170422, 0.39457896, 0.32125981,\n",
       "       0.12869194, 0.17635606, 0.3014055 , 0.38535148, 0.35810224,\n",
       "       0.24785989, 0.27814507, 0.16138159, 0.0914809 , 0.16452661,\n",
       "       0.15082448, 0.32666153, 0.33464648, 0.368891  , 0.18851446,\n",
       "       0.12667676, 0.29012003, 0.28519131, 0.3794178 , 0.33512684,\n",
       "       0.19875567, 0.28809695, 0.14307054, 0.13792505, 0.25905288])"
      ]
     },
     "execution_count": 116,
     "metadata": {},
     "output_type": "execute_result"
    }
   ],
   "source": [
    "X_set[y_set == j, 0]"
   ]
  },
  {
   "cell_type": "code",
   "execution_count": 117,
   "id": "dea00671-21a6-4b1d-8c32-b332c7f0b8c8",
   "metadata": {},
   "outputs": [
    {
     "data": {
      "text/plain": [
       "array([0, 1, 0, 1, 1, 1, 1, 1, 0, 1, 1, 1, 0, 0, 0, 1, 1, 0, 1, 1, 1, 0,\n",
       "       1, 0, 1, 1, 0, 0, 0, 0, 1, 1, 0, 1, 0, 0, 0, 0, 0, 1, 0, 0, 0, 1,\n",
       "       1, 1, 1, 0, 1, 1, 0, 1, 1, 1, 0, 1, 1, 0, 1, 0, 1, 1, 1, 1, 1, 0,\n",
       "       0, 0, 0, 1, 1, 0, 1, 1, 0, 0, 0, 0, 0, 1, 1, 1, 0, 0, 0, 1, 0, 0,\n",
       "       0, 1, 1, 0, 1, 0, 1, 1, 0, 0, 1, 1, 1, 1, 0, 1, 0, 1, 1, 1, 1, 0,\n",
       "       1, 1, 1, 0, 0, 0, 0, 0, 1, 1, 1, 0, 1, 1, 1, 1, 0, 1, 0, 0, 0, 1,\n",
       "       0, 0, 1, 1, 1, 1, 0, 1, 0, 0, 1, 1, 0, 0, 1, 1, 1, 0, 1, 0, 0, 0,\n",
       "       0, 1, 0, 0, 1, 1, 0, 0, 0, 1, 0, 0, 0, 1, 1, 1, 0, 0, 1, 1, 0, 0,\n",
       "       1, 1, 1, 1, 0, 0, 0, 0, 1, 0, 1, 1, 1, 0, 0, 1, 0, 1, 0, 0, 0, 1,\n",
       "       0, 1, 1, 0, 1, 1, 1, 1, 0, 0, 0, 0, 1, 0, 0, 0, 0, 1, 0, 0, 1, 0,\n",
       "       0, 1, 1, 1, 0, 1, 0, 1, 1, 0, 1, 0, 1, 0, 0, 1, 0, 0, 0, 0, 0, 1,\n",
       "       1, 0, 0, 1, 1, 0, 1, 0, 1, 0, 0, 0, 1, 1, 1, 0, 0, 0, 0, 1, 0, 1,\n",
       "       1, 1, 1, 1, 0, 1, 0, 1, 0, 1, 1, 0, 0, 1, 1, 1, 0, 0, 0, 0, 1, 1,\n",
       "       0, 1, 1, 1, 1, 0, 0, 1, 0, 0, 1, 1, 1, 0, 0, 1, 0, 1, 1, 1, 0, 0,\n",
       "       0, 0, 0, 0, 0, 1, 1, 1, 0, 1, 1, 0, 1, 0, 0, 1, 1, 0, 0, 0, 1, 1,\n",
       "       1, 1, 1, 1, 1, 1, 0, 1, 0, 0, 0, 0, 0, 1, 0, 1, 1, 1, 1, 1, 0, 1,\n",
       "       1, 1, 1, 0, 1, 1, 1, 1, 0, 1, 1, 0, 0, 1, 1, 0, 1, 1, 1, 0, 1, 0,\n",
       "       0, 0, 1, 1, 1, 0, 0, 1, 1, 1, 0, 1, 1, 0, 0, 1, 0, 0, 0, 1, 1, 1,\n",
       "       1, 1, 0, 0, 0, 1, 1, 1, 1, 1, 0, 1, 1, 0, 1, 1, 1, 0, 0, 0, 1, 0,\n",
       "       1, 1, 0, 0, 0, 0, 1, 1, 0, 0, 0, 0, 1, 1, 1, 0, 1, 0, 1, 1, 0, 1,\n",
       "       1, 1, 0, 1, 0, 1, 0, 1, 1, 0, 0, 0, 0, 0, 1, 1, 0, 1, 1, 1, 0, 0,\n",
       "       1, 1, 1, 1, 0, 0, 0, 1, 1, 0, 1, 1, 0, 1, 0, 1, 0, 0, 1, 0, 1, 0,\n",
       "       0, 1, 0, 1, 1, 1, 0, 0, 0, 0, 1, 0, 0, 0, 1, 1, 0, 0, 0, 0, 0, 1,\n",
       "       0, 0, 0, 1, 0, 0, 1, 0, 0, 0, 1, 1, 1, 0, 0, 1, 0, 1, 0, 0, 1, 1,\n",
       "       0, 0, 1, 0, 1, 0, 1, 0, 1, 1, 0, 1, 0, 0, 0, 0, 1, 1, 1, 0, 0, 1,\n",
       "       1, 1, 1, 1, 1, 0, 1, 1, 0, 1, 1, 1, 1, 0, 1, 1, 1, 0, 0, 1, 1, 1,\n",
       "       1, 1, 1, 1, 0, 0, 0, 1, 0, 1, 0, 0, 0, 0, 1, 1, 0, 0, 1, 0, 0, 0,\n",
       "       0, 1, 1, 1, 1, 0, 1, 1, 1, 0, 1, 0, 1, 0, 1, 0, 1, 0, 1, 0, 0, 0,\n",
       "       0, 0, 0, 0, 0, 1, 0, 0, 0, 1, 1, 1, 0, 0, 0, 1, 0, 0, 0, 1, 0, 1,\n",
       "       1, 1, 1, 0, 1, 0, 0, 0, 0, 1, 1, 0, 0, 1, 1, 1, 0, 0, 0, 1, 1, 1,\n",
       "       0, 0, 1, 1, 0, 1, 1, 1, 0, 1, 0, 0, 1, 1, 0, 0, 0, 1, 1, 1, 0, 1,\n",
       "       0, 0, 1, 0, 0, 1, 0, 1, 0, 0, 1, 1, 0, 0, 0, 1, 0, 0, 0, 0, 0, 1,\n",
       "       0, 0, 1, 1, 0, 0, 1, 1, 1, 0, 0, 0, 1, 1, 0, 1, 1, 1, 0, 1, 0, 0,\n",
       "       0, 0, 0, 1, 1, 0, 0, 1, 0, 1, 1, 0, 1, 1, 0, 1, 0, 0, 0, 1, 1, 1,\n",
       "       0, 0, 0, 1, 1, 1, 1, 1, 0, 0, 1, 1, 1, 1, 1, 0, 0, 1, 1, 0, 0, 0,\n",
       "       1, 0, 0, 0, 1, 0, 0, 0, 1, 0, 1, 0, 1, 0, 0, 0, 0, 1, 1, 1, 0, 0,\n",
       "       0, 0, 1, 1, 1, 0, 1, 0, 1, 0, 0, 1, 1, 0, 1, 1, 0, 0, 1, 1, 0, 1,\n",
       "       1, 0, 1, 1, 0, 1, 0, 0, 1, 1, 1, 1, 0, 1, 0, 0, 1, 0, 1, 1, 0, 1,\n",
       "       1, 0, 1, 0, 0, 1, 1, 1, 0, 0, 0, 0, 0, 1, 1, 1, 0, 0, 0, 1, 0, 1,\n",
       "       1, 0, 0, 1, 1, 0, 0, 1, 1, 0, 1, 0, 1, 0, 1, 0, 1, 0, 0, 1, 0, 1,\n",
       "       1, 0, 1, 1, 1, 1, 0, 1, 0, 1, 1, 0, 0, 0, 0, 1, 1, 0, 0, 1, 1, 0,\n",
       "       1, 0, 1, 1, 0, 0, 0, 0, 0, 0, 0, 0, 1, 0, 1, 0, 0, 1, 0, 0, 0, 0,\n",
       "       1, 1, 0, 1, 0, 0, 0, 1, 0, 1, 0, 0, 1, 1, 0, 0, 1, 1, 0, 0, 1, 0,\n",
       "       0, 1, 1, 1, 1, 1, 0, 0, 1, 1, 0, 0, 0, 1, 0, 0, 0, 1, 0, 0, 1, 1,\n",
       "       1, 0, 1, 1, 0, 0, 1, 0, 1, 0, 1, 1, 0, 1, 0, 1, 0, 0, 1, 1, 0, 0,\n",
       "       1, 0, 1, 0, 0, 0, 1, 0, 0, 1], dtype=int64)"
      ]
     },
     "execution_count": 117,
     "metadata": {},
     "output_type": "execute_result"
    }
   ],
   "source": [
    "y_set"
   ]
  },
  {
   "cell_type": "code",
   "execution_count": null,
   "id": "1e2c217c-8af1-44f5-873d-53a268fdcbf3",
   "metadata": {},
   "outputs": [],
   "source": []
  }
 ],
 "metadata": {
  "kernelspec": {
   "display_name": "Python 3",
   "language": "python",
   "name": "python3"
  },
  "language_info": {
   "codemirror_mode": {
    "name": "ipython",
    "version": 3
   },
   "file_extension": ".py",
   "mimetype": "text/x-python",
   "name": "python",
   "nbconvert_exporter": "python",
   "pygments_lexer": "ipython3",
   "version": "3.8.5"
  }
 },
 "nbformat": 4,
 "nbformat_minor": 5
}
